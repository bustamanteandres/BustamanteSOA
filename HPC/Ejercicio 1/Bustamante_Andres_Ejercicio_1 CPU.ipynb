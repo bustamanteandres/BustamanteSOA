{
  "nbformat": 4,
  "nbformat_minor": 0,
  "metadata": {
    "colab": {
      "name": "Copia de Prueba 1 - Vectores - CPU.ipynb",
      "private_outputs": true,
      "provenance": [],
      "collapsed_sections": [
        "B4IHd-IqdvT1"
      ],
      "toc_visible": true
    },
    "kernelspec": {
      "display_name": "Python 3",
      "name": "python3"
    }
  },
  "cells": [
    {
      "cell_type": "markdown",
      "metadata": {
        "id": "KxbAgQ_ocVES"
      },
      "source": [
        "---\n",
        "# 1 Introducción\n",
        "\n",
        "El siguiente cuaderno realiza una conversion de un texto, aumentando el valor ASCII de cada caracter en forma secuencial,  utilizando el procesador CPU.\n",
        "\n",
        "Su objetivo es codificar un texto para que no pueda ser interpretado facilmente, para luego ser enviado y ser decodificado con su funcion inversa."
      ]
    },
    {
      "cell_type": "markdown",
      "metadata": {
        "id": "M-bYqrOYL9hX"
      },
      "source": [
        "---\n",
        "# 2 Armado del ambiente\n",
        "No son necesarios, ejecuciones previas del armado del ambiente."
      ]
    },
    {
      "cell_type": "markdown",
      "metadata": {
        "id": "NzQaWRTtc1Zj"
      },
      "source": [
        "---\n",
        "# 3 Desarrollo\n"
      ]
    },
    {
      "cell_type": "code",
      "metadata": {
        "id": "9c7mZSnu0M3m"
      },
      "source": [
        "# --------------------------------------------\n",
        "#@title 3.1 Parámetros de ejecución { vertical-output: true }\n",
        "\n",
        "texto =  \"Un texto es una composici\\xF3n de signos codificados en un sistema de escritura que forma una unidad de sentido.Tambi\\xE9n es una composici\\xF3n de caracteres imprimibles (con grafema) generados por un algoritmo de cifrado que, aunque no tienen sentido para cualquier persona, s\\xED puede ser descifrado por su destinatario original. En otras palabras, un texto es un entramado de signos con una intenci\\xF3n comunicativa que adquiere sentido en determinado contexto.Las ideas que comunica un texto est\\xE1n contenidas en lo que se suele denominar \\xABmacroproposiciones\\xBB, unidades estructurales de nivel superior o global, que otorgan coherencia al texto constituyendo su hilo central, el esqueleto estructural que cohesiona elementos ling\\xFC\\xEDsticos formales de alto nivel, como los t\\xEDtulos y subt\\xEDtulos, la secuencia de p\\xE1rrafos, etc. En contraste, las \\xABmicroproposiciones\\xBB son los elementos coadyuvantes de la cohesi\\xF3n de un texto, pero a nivel m\\xE1s particular o local. Esta distinci\\xF3n fue realizada por Teun van Dijk en 1980.1\\u200BEl nivel microestructural o local est\\xE1 asociado con el concepto de cohesi\\xF3n. Se refiere a uno de los fen\\xF3menos propios de la coherencia, el de las relaciones particulares y locales que se dan entre elementos ling\\xFC\\xEDsticos, tanto los que remiten unos a otros como los que tienen la funci\\xF3n de conectar y organizar.Tambi\\xE9n es un conjunto de oraciones agrupadas en p\\xE1rrafos que habla de un tema determinado.De acuerdo a Greimas, es un enunciado ya sea gr\\xE1fico o f\\xF3nico que nos permite visualizar las palabras que escuchamos y que es utilizado para manifestar el proceso ling\\xFC\\xEDstico. Mientras Hjelmslev usa ese t\\xE9rmino para designar el todo de una cadena ling\\xFC\\xEDstica ilimitada (\\xA71).En ling\\xFC\\xEDstica, no todo conjunto de signos constituye un texto.Se le llama texto a la configuraci\\xF3n de lengua o habla y se utilizan signos espec\\xEDficos (signo de la lengua o habla) y est\\xE1 organizada seg\\xFAn reglas del habla o idioma.Todo texto necesariamente posee las siguientes propiedades:Cohesi\\xF3n. Un texto cohesionado es aquel cuyas partes se encuentran unidas l\\xF3gicamente entre s\\xED, o sea, que de la lectura de una parte se puede ir a la siguiente de manera ordenada, racional. La falta de cohesi\\xF3n hace que los textos salten de una cosa a otra, sin ton ni son.Coherencia. Los textos deben ser coherentes, lo cual significa centrarse en un tema o t\\xF3pico sobre el cual van a referirse, sea el que sea. Un texto deber\\xEDa avanzar de a poco hacia la composici\\xF3n de una idea global, general, a trav\\xE9s de la exposici\\xF3n de ideas m\\xE1s peque\\xF1as o sencillas. Pero al final de la lectura de un texto coherente, uno puede explicar \\u201Cde qu\\xE9 trata\\u201D.Significado. Todo texto posee un significado a recuperar por el lector, incluso en los m\\xE1s banales o ineficientes. Pero la escritura nunca carece de significado, pues no tendr\\xEDa nada que comunicar y la lectura ser\\xEDa imposible.Progresividad. Un texto ofrece su contenido de manera progresiva, es decir, poco a poco, una oraci\\xF3n a la vez. Por eso para saber todo lo que dice debemos leerlo todo, pues a medida que avanzamos en la lectura vamos descifrando m\\xE1s y m\\xE1s del contenido de su mensaje, y si nos conformamos con la primera parte, no lo sabremos todo.Intencionalidad. Todo texto es escrito con alguna intenci\\xF3n comunicativa, o sea, con alg\\xFAn prop\\xF3sito en mente, ya sea servir de recordatorio, decirle a otra persona que haga algo, o simplemente entretener. Sea como sea, dicha intenci\\xF3n configurar\\xE1 el texto y har\\xE1 que el emisor emplee unos u otros recursos en su composici\\xF3n.Adecuaci\\xF3n. Todo texto debe adaptarse a una serie de c\\xF3digos y preceptos que sean comunes con su receptor, de manera que \\xE9ste pueda entenderlo y descifrar su contenido. Esto pasa por el modo de uso del lenguaje, tambi\\xE9n por las convenciones del g\\xE9nero, etc.\" #@param {type: \"string\"}\n",
        "try:\n",
        "  # --------------------------------------------\n",
        "  from datetime import datetime\n",
        "  # --------------------------------------------\n",
        "  # Definición de función que transforma el tiempo en  milisegundos \n",
        "  tiempo_en_ms = lambda dt:(dt.days * 24 * 60 * 60 + dt.seconds) * 1000 + dt.microseconds / 1000.0\n",
        "  # --------------------------------------------\n",
        "  tiempo_inicio_cpu = datetime.now()\n",
        "  result = \"\"\n",
        "  result2 = \"\"\n",
        "  tiempo_inicio_for = datetime.now()\n",
        "  for word in texto:\n",
        "    result += chr(ord(word) + 1)\n",
        "  tiempo_fin_for = datetime.now()\n",
        "  tiempo_fin_cpu = datetime.now()\n",
        "\n",
        "  print(\"Codificacion: \", result)\n",
        "  print(\"Tiempo Total: \", tiempo_en_ms(tiempo_fin_cpu - tiempo_inicio_cpu), \"ms\")\n",
        "  print(\"Tiempo bucle: \", tiempo_en_ms(tiempo_fin_for - tiempo_inicio_for), \"ms\")\n",
        "except Exception as excep:\n",
        "  print(\"Error: \", excep)"
      ],
      "execution_count": null,
      "outputs": []
    },
    {
      "cell_type": "markdown",
      "metadata": {
        "id": "fwtyQB2tdJuG"
      },
      "source": [
        "---\n",
        "#4 Tabla de pasos\n",
        "Tabla de pasos de la ejecución del programa:\n",
        "\n",
        " Procesador | Función | Detalle\n",
        "------------|---------|----------\n",
        "CPU      |  @param                | Lectura del texto a convertir desde Colab.\n",
        "CPU      |  import                | Importa los módulos para funcionar.\n",
        "CPU      |  tiempo_en_ms          | Define una funcion para obtener el tiempo en milisegundos a partir de una fecha.\n",
        "CPU      |  datetime.now()        | Toma el tiempo inicial.\n",
        "CPU      |  for...                | Realiza la conversion del texto, aumentando en 1 el valor ASCII de cada caracter\n",
        "CPU      |  datetime.now()        | Toma el tiempo final.\n",
        "CPU      |  print()               | Informa los resultados.\n",
        "\n"
      ]
    },
    {
      "cell_type": "markdown",
      "metadata": {
        "id": "3PQxHPkDdo42"
      },
      "source": [
        "---\n",
        "# 5 Conclusiones\n",
        "\n",
        "Como conclusion podemos observar que al realizar la conversion de cada caracter de un texto en forma secuencial, el tiempo de ejecucion es proporcional a la cantidad de caracteres. Esto significa que la mayor parte del tiempo es utilizado por la conversion, con lo que a medida que aumente el tamaño del texto a convertir, irá aumentando el tiempo que necesita para \"codificarlo\"."
      ]
    },
    {
      "cell_type": "markdown",
      "metadata": {
        "id": "B4IHd-IqdvT1"
      },
      "source": [
        "---\n",
        "# 6 Bibliografia\n",
        "\n",
        "[1] MARKDOWN SYNTAX Colab: [PDF](https://github.com/wvaliente/SOA_HPC/blob/main/Documentos/markdown-cheatsheet-online.pdf)\n",
        "\n",
        "[2] Introducción a Python: [Página Colab](https://github.com/wvaliente/SOA_HPC/blob/main/Documentos/Python_Basico.ipynb) \n",
        "\n",
        "[3] Tutorial Point Colab: [PDF](https://github.com/wvaliente/SOA_HPC/blob/main/Documentos/markdown-cheatsheet-online.pdf)"
      ]
    }
  ]
}