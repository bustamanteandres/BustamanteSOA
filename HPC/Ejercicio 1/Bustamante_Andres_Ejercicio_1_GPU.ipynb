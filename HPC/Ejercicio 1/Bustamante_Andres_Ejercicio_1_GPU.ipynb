{
  "nbformat": 4,
  "nbformat_minor": 0,
  "metadata": {
    "colab": {
      "name": "Bustamante_Andres_Ejercicio_1_GPU.ipynb",
      "private_outputs": true,
      "provenance": [],
      "collapsed_sections": []
    },
    "kernelspec": {
      "display_name": "Python 3",
      "name": "python3"
    },
    "accelerator": "GPU"
  },
  "cells": [
    {
      "cell_type": "markdown",
      "metadata": {
        "id": "Zw-Vno_15t-E"
      },
      "source": [
        "# 1 Introducción\n",
        "El siguiente cuaderno realiza el calculo del tiempo que tarda en caer un objeto desde una altura h, utilizando el procesador GPU. El algoritmo se basa en la ecuacion de tiempo de \"Caida Libre\" para calcular el tiempo de caida [5].\n",
        "\n",
        "<center>$t = √(2h/g)$</center>\n",
        "<center>t = tiempo en caer;  h = altura inicial; g = gravedad</center>\n",
        "\n",
        "El objetivo es realizar el calculo del tiempo que tarda en caer un objeto desde una altura h."
      ]
    },
    {
      "cell_type": "markdown",
      "metadata": {
        "id": "7cRnhv_7N4Pa"
      },
      "source": [
        "---\n",
        "# 2 Armado del ambiente\n",
        "Instala en el cuaderno el módulo CUDA de Python."
      ]
    },
    {
      "cell_type": "code",
      "metadata": {
        "id": "z74FNbCszDmw"
      },
      "source": [
        "!pip install pycuda"
      ],
      "execution_count": null,
      "outputs": []
    },
    {
      "cell_type": "markdown",
      "metadata": {
        "id": "NzQaWRTtc1Zj"
      },
      "source": [
        "---\n",
        "# 3 Desarrollo\n",
        "Ejecuta el Código CPU - GPU."
      ]
    },
    {
      "cell_type": "code",
      "metadata": {
        "id": "9c7mZSnu0M3m"
      },
      "source": [
        "# --------------------------------------------\n",
        "#@title 3.1 Parámetros de ejecución { vertical-output: true }\n",
        "#@markdown ---\n",
        "#@markdown ### Seleccione la cantidad de valores a procesar y el valor de la gravedad a utilizar\n",
        "cantidad_valores = 50000 #@param {type: \"number\"}\n",
        "gravedad = 9.8 #@param {type: \"number\"}\n",
        "#@markdown ---\n",
        "# --------------------------------------------\n",
        "try:\n",
        "  from datetime import datetime\n",
        "  import pycuda.driver as cuda\n",
        "  import pycuda.autoinit\n",
        "  from pycuda.compiler import SourceModule\n",
        "  import numpy\n",
        "  # --------------------------------------------\n",
        "  # Definición de función que transforma el tiempo en  milisegundos \n",
        "  tiempo_en_ms = lambda dt:(dt.days * 24 * 60 * 60 + dt.seconds) * 1000 + dt.microseconds / 1000.0\n",
        "  # --------------------------------------------\n",
        "  # Empiezo a contar el tiempo de procesamiento total\n",
        "  tiempo_inicio_total = datetime.now()\n",
        "\n",
        "  # CPU - Inicializo los vectores altura y tiempo\n",
        "  vector_altura_cpu = numpy.random.uniform(1, 100000, cantidad_valores)\n",
        "  vector_altura_cpu = vector_altura_cpu.astype(numpy.float32())\n",
        "  vector_tiempo_cpu = numpy.empty_like(vector_altura_cpu)\n",
        "  vector_tiempo_cpu = vector_tiempo_cpu.astype(numpy.float32())\n",
        "\n",
        "  # GPU - reservo la memoria GPU.\n",
        "  vector_altura_gpu = cuda.mem_alloc(vector_altura_cpu.nbytes)\n",
        "  vector_tiempo_gpu = cuda.mem_alloc(vector_tiempo_cpu.nbytes)\n",
        "\n",
        "  # GPU - Copio la memoria al GPU.\n",
        "  cuda.memcpy_htod(vector_altura_gpu, vector_altura_cpu)\n",
        "\n",
        "  # CPU - Defino la función kernel que ejecutará en GPU.\n",
        "  module = SourceModule(\"\"\"\n",
        "  __global__ void kernel_caida_libre(int size, float *vector_altura, float *vector_tiempo, float gravedad)\n",
        "  {\n",
        "    int idx = threadIdx.x + blockIdx.x * blockDim.x;\n",
        "    if(idx < size){\n",
        "      vector_tiempo[idx] = sqrt((2 * vector_altura[idx]) / gravedad);\n",
        "    } \n",
        "  }\n",
        "  \"\"\")\n",
        "  # CPU - Genero la función kernel.\n",
        "  kernel = module.get_function(\"kernel_caida_libre\")\n",
        "\n",
        "  # Empiezo a contar el tiempo de procesamiento de GPU\n",
        "  tiempo_inicio_gpu = datetime.now()\n",
        "\n",
        "  # Armar las dimensiones correctamente.\n",
        "  dim_hilo = 256\n",
        "  dim_bloque = numpy.int((cantidad_valores + dim_hilo-1) / dim_hilo )\n",
        "  # GPU - Ejecuta el kernel.\n",
        "  kernel(numpy.int32(cantidad_valores), vector_altura_gpu, vector_tiempo_gpu, numpy.float32(gravedad), block=( dim_hilo, 1, 1 ),grid=(dim_bloque, 1,1) )\n",
        "  \n",
        "  # Finalizo el conteo del tiempo de procesamiento de GPU\n",
        "  tiempo_fin_gpu = datetime.now()\n",
        "\n",
        "  # GPU - Copio el resultado desde la memoria GPU.\n",
        "  cuda.memcpy_dtoh(vector_tiempo_cpu, vector_tiempo_gpu)\n",
        "\n",
        "  # Finalizo el conteo del tiempo total de procesamiento\n",
        "  tiempo_fin_total = datetime.now()\n",
        "\n",
        "  # Muestro los valores calculados\n",
        "  \"\"\"\n",
        "  print(\"Calculos con gravedad: \", gravedad, \"m/s2\")\n",
        "  for i in range(0, cantidad_valores):\n",
        "    print(\"Altura: \", vector_altura_cpu[i], \"m - Tiempo: \", vector_tiempo_cpu[i], \"s\")\n",
        "  \"\"\"\n",
        "  print(\"Cantidad de elementos: \", cantidad_valores)\n",
        "  print(\"Thread x: \", dim_hilo, \", Bloque x:\", dim_bloque )\n",
        "  print(\"Tiempo Total: \", tiempo_en_ms(tiempo_fin_total - tiempo_inicio_total), \"ms\")\n",
        "  print(\"Tiempo GPU: \", tiempo_en_ms(tiempo_fin_gpu - tiempo_inicio_gpu), \"ms\")\n",
        "except Exception as excep:\n",
        "  print(\"Error: \", excep)"
      ],
      "execution_count": null,
      "outputs": []
    },
    {
      "cell_type": "markdown",
      "metadata": {
        "id": "EALIlyyG6iqP"
      },
      "source": [
        "---\n",
        "# 4 Tabla de pasos de ejecución del programa\n",
        "\n",
        "\n",
        " Procesador | Funciòn | Detalle\n",
        "------------|---------|----------\n",
        "CPU      |  @param                | Lectura de la cantidad de valores a procesar.\n",
        "CPU      |  @param                | Lectura del valor de la gravedad a utilizar.\n",
        "CPU      |  import                | Importa los módulos para funcionar.\n",
        "CPU      |  tiempo_en_ms          | Define una funcion para obtener el tiempo en milisegundos a partir de una fecha.\n",
        "CPU      |  datetime.now()        | Toma el tiempo inicial.\n",
        "CPU      |\tnumpy.random.uniform(1, 100000, cantidad_valores) |\tInicializa el vector de alturas\n",
        "CPU      |\tvector_tiempo = numpy.empty_like(vector_altura) |\tInicializa el vector de tiempos\n",
        "**GPU**  |  cuda.mem_alloc()      | Reserva la memoria en GPU.\n",
        "**GPU**  |  cuda.memcpy_htod()    | Copia las memorias desde el CPU al GPU.\n",
        "CPU      |  SourceModule()        | Define el código del kernel \n",
        "CPU      |  module.get_function() | Genera la función del kernel GPU\n",
        "CPU      |  dim_tx/dim_bx         | Calcula las dimensiones.\n",
        "**GPU**  |  kernel()              | Ejecuta el kernel en GPU\n",
        "CPU      |  cuda.memcpy_dtoh( )   | Copia el resultado desde GPU memoria texto_GPU a CPU memoria result.\n",
        "CPU      |  print()               | Informo los resultados.\n",
        "\n"
      ]
    },
    {
      "cell_type": "markdown",
      "metadata": {
        "id": "TzgZkrQD-UTy"
      },
      "source": [
        "---\n",
        "# 5 Conclusiones\n",
        "### Breve repaso\n",
        "En este ejercicio se realiza el calculo del tiempo que tarda un objeto en caer desde una altura determinada, usando las ecuaciones de \"Caida Libre\".\n",
        "\n",
        "### Lecciones aprendidas\n",
        "Como conclusion podemos observar que al realizar el calculo en paralelo de cada valor de altura del vector, usando threads del GPU, dicho calculo se realiza mucho mas rapido que si se hiciera secuencialmente. Tambien debe destacarse que la inicializacion toma bastante tiempo, por lo cual es conveniente utilizar este tipo de procesamiento cuando la cantidad de valores a calcular son bastantes.\n",
        "\n",
        "### Sugerencias para continuar\n",
        "El ejercicio se podria continuar agregando opciones para calcular tanto el tiempo, como otras variables ya sea, el valor de la gravedad o la altura."
      ]
    },
    {
      "cell_type": "markdown",
      "metadata": {
        "id": "6hn6HOCYEjyY"
      },
      "source": [
        "---\n",
        "# 6 Bibliografia\n",
        "\n",
        "[1] MARKDOWN SYNTAX Colab: [PDF](https://github.com/wvaliente/SOA_HPC/blob/main/Documentos/markdown-cheatsheet-online.pdf)\n",
        "\n",
        "[2] Introducción a Python: [Página Colab](https://github.com/wvaliente/SOA_HPC/blob/main/Documentos/Python_Basico.ipynb) \n",
        "\n",
        "[3] Documentación PyCUDA: [WEB](https://documen.tician.de/pycuda/index.html)\n",
        "\n",
        "[4] Repositorio de PyCUDA: [WEB](https://pypi.python.org/pypi/pycuda)\n",
        "\n",
        "[5] Ecuacion de Caida Libre: [Ecuaciones Caida Libre](https://es.wikipedia.org/wiki/Ecuaciones_para_un_cuerpo_en_ca%C3%ADda_libre#:~:text=Generalmente%2C%20en%20la%20atm%C3%B3sfera%20de,a%20la%20resistencia%20del%20aire)"
      ]
    }
  ]
}