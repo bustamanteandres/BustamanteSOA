{
  "nbformat": 4,
  "nbformat_minor": 0,
  "metadata": {
    "colab": {
      "name": "Bustamante_Andres_Ejercicio_1_CPU.ipynb",
      "private_outputs": true,
      "provenance": [],
      "collapsed_sections": [
        "B4IHd-IqdvT1"
      ],
      "toc_visible": true
    },
    "kernelspec": {
      "display_name": "Python 3",
      "name": "python3"
    }
  },
  "cells": [
    {
      "cell_type": "markdown",
      "metadata": {
        "id": "KxbAgQ_ocVES"
      },
      "source": [
        "---\n",
        "# 1 Introducción\n",
        "\n",
        "El siguiente cuaderno realiza el calculo del tiempo que tarda en caer un objeto desde una altura h, utilizando el procesador CPU. El algoritmo se basa en la ecuacion de tiempo de \"Caida Libre\" para calcular el tiempo de caida [4].\n",
        "<center>$t = √(2h/g)$</center>\n",
        "<center>t = tiempo en caer;  h = altura inicial; g = gravedad</center>\n",
        "\n",
        "El objetivo es realizar el calculo del tiempo que tarda en caer un objeto desde una altura h."
      ]
    },
    {
      "cell_type": "markdown",
      "metadata": {
        "id": "M-bYqrOYL9hX"
      },
      "source": [
        "---\n",
        "# 2 Armado del ambiente\n",
        "No son necesarios, ejecuciones previas del armado del ambiente."
      ]
    },
    {
      "cell_type": "markdown",
      "metadata": {
        "id": "NzQaWRTtc1Zj"
      },
      "source": [
        "---\n",
        "# 3 Desarrollo\n"
      ]
    },
    {
      "cell_type": "code",
      "metadata": {
        "id": "9c7mZSnu0M3m"
      },
      "source": [
        "# --------------------------------------------\n",
        "#@title 3.1 Parámetros de ejecución { vertical-output: true }\n",
        "#@markdown ---\n",
        "#@markdown ### Seleccione la cantidad de valores a procesar y el valor de la gravedad a utilizar\n",
        "cantidad_valores = 50000 #@param {type: \"number\"}\n",
        "gravedad = 9.8 #@param {type: \"number\"}\n",
        "#@markdown ---\n",
        "# --------------------------------------------\n",
        "try:\n",
        "  # --------------------------------------------\n",
        "  from datetime import datetime\n",
        "  import numpy\n",
        "  import math\n",
        "  # --------------------------------------------\n",
        "  # Definición de función que transforma el tiempo en  milisegundos \n",
        "  tiempo_en_ms = lambda dt:(dt.days * 24 * 60 * 60 + dt.seconds) * 1000 + dt.microseconds / 1000.0\n",
        "  # --------------------------------------------\n",
        "\n",
        "  # Empiezo a contar el tiempo de procesamiento total\n",
        "  tiempo_inicio_cpu = datetime.now()\n",
        "\n",
        "  # CPU - Inicializo los vectores altura y tiempo\n",
        "  vector_altura = numpy.random.uniform(1, 1000000, cantidad_valores)\n",
        "  vector_altura = vector_altura.astype(numpy.float32())\n",
        "  vector_tiempo = numpy.empty_like(vector_altura)\n",
        "  vector_tiempo = vector_tiempo.astype(numpy.float32())\n",
        "\n",
        "  # Empiezo a contar el tiempo de procesamiento de la iteracion\n",
        "  tiempo_inicio_for = datetime.now()\n",
        "\n",
        "  # Realizo la funcion de \"Caida Libre\"\n",
        "  for i in range(0, cantidad_valores):\n",
        "    vector_tiempo[i] = math.sqrt((2 * vector_altura[i]) / gravedad)\n",
        "\n",
        "  # Finalizo el conteo del tiempo de procesamiento de la iteracion\n",
        "  tiempo_fin_for = datetime.now()\n",
        "\n",
        "  # Finalizo el conteo del tiempo total de procesamiento\n",
        "  tiempo_fin_cpu = datetime.now()\n",
        "\n",
        "  # Muestro los valores calculados\n",
        "  \"\"\"\n",
        "  print(\"Calculos con gravedad: \", gravedad, \"m/s2\")\n",
        "  for i in range(0, cantidad_valores):\n",
        "    print(\"Altura: \", vector_altura[i], \"m - Tiempo: \", vector_tiempo[i], \"s\")\n",
        "  \"\"\"\n",
        "  print(\"Tiempo Total: \", tiempo_en_ms(tiempo_fin_cpu - tiempo_inicio_cpu), \"ms\")\n",
        "  print(\"Tiempo bucle: \", tiempo_en_ms(tiempo_fin_for - tiempo_inicio_for), \"ms\")\n",
        "except Exception as excep:\n",
        "  print(\"Error: \", excep)"
      ],
      "execution_count": null,
      "outputs": []
    },
    {
      "cell_type": "markdown",
      "metadata": {
        "id": "fwtyQB2tdJuG"
      },
      "source": [
        "---\n",
        "#4 Tabla de pasos\n",
        "Tabla de pasos de la ejecución del programa:\n",
        "\n",
        " Procesador | Función | Detalle\n",
        "------------|---------|----------\n",
        "CPU      |  @param                | Lectura de la cantidad de valores a procesar.\n",
        "CPU      |  @param                | Lectura del valor de la gravedad a utilizar.\n",
        "CPU      |  import                | Importa los módulos para funcionar.\n",
        "CPU      |  tiempo_en_ms          | Define una funcion para obtener el tiempo en milisegundos a partir de una fecha.\n",
        "CPU      |  datetime.now()        | Toma el tiempo inicial.\n",
        "CPU      |\tnumpy.random.uniform(1, 100000, cantidad_valores) |\tInicializa el vector de alturas\n",
        "CPU      |\tvector_tiempo = numpy.empty_like(vector_altura) |\tInicializa el vector de tiempos\n",
        "CPU      |  for...                | Realiza el calculo de la ecuacion de tiempo de \"Caida Libre\"\n",
        "CPU      |  datetime.now()        | Toma el tiempo final.\n",
        "CPU      |  print()               | Informa los resultados.\n",
        "\n"
      ]
    },
    {
      "cell_type": "markdown",
      "metadata": {
        "id": "3PQxHPkDdo42"
      },
      "source": [
        "---\n",
        "# 5 Conclusiones\n",
        "### Breve repaso\n",
        "En este ejercicio se realiza el calculo del tiempo que tarda un objeto en caer desde una altura determinada, usando las ecuaciones de \"Caida Libre\".\n",
        "\n",
        "### Lecciones aprendidas\n",
        "Como conclusion podemos observar que al realizar el calculo de la ecuacion de tiempo de \"Caida Libre\" de cada valor en el vector de alturas en forma secuencial, el tiempo de ejecucion es proporcional a la cantidad de valores. Esto significa que la mayor parte del tiempo es utilizado por el bloque iterativo (for), con lo que a medida que aumente el tamaño del vector a calcular, irá aumentando el tiempo que se necesita para procesarlo.\n",
        "\n",
        "### Sugerencias para continuar\n",
        "El ejercicio se podria continuar agregando opciones para calcular tanto el tiempo, como otras variables ya sea, el valor de la gravedad o la altura.\n"
      ]
    },
    {
      "cell_type": "markdown",
      "metadata": {
        "id": "B4IHd-IqdvT1"
      },
      "source": [
        "---\n",
        "# 6 Bibliografia\n",
        "\n",
        "[1] MARKDOWN SYNTAX Colab: [PDF](https://github.com/wvaliente/SOA_HPC/blob/main/Documentos/markdown-cheatsheet-online.pdf)\n",
        "\n",
        "[2] Introducción a Python: [Página Colab](https://github.com/wvaliente/SOA_HPC/blob/main/Documentos/Python_Basico.ipynb) \n",
        "\n",
        "[3] Tutorial Point Colab: [PDF](https://github.com/wvaliente/SOA_HPC/blob/main/Documentos/markdown-cheatsheet-online.pdf)\n",
        "\n",
        "[4] Ecuacion de Caida Libre: [Ecuaciones Caida Libre](https://es.wikipedia.org/wiki/Ecuaciones_para_un_cuerpo_en_ca%C3%ADda_libre#:~:text=Generalmente%2C%20en%20la%20atm%C3%B3sfera%20de,a%20la%20resistencia%20del%20aire)"
      ]
    }
  ]
}