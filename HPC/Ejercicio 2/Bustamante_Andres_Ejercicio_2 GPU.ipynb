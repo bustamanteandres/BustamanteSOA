{
  "nbformat": 4,
  "nbformat_minor": 0,
  "metadata": {
    "colab": {
      "name": "Copia de Prueba 2 - Imagen - GPU.ipynb",
      "provenance": [],
      "collapsed_sections": [],
      "toc_visible": true
    },
    "kernelspec": {
      "name": "python3",
      "display_name": "Python 3"
    },
    "accelerator": "GPU"
  },
  "cells": [
    {
      "cell_type": "markdown",
      "metadata": {
        "id": "qoYPFWcielY3"
      },
      "source": [
        "# 1 Introducción\n",
        "\n",
        "El siguiente ejemplo combina 2 imagenes parametrisadas, en una unica foto. La combinacion se realiza colocando la mitad de cada imagen en la imagen resultado. Esta combinacion puede ser vertical como horizontal, dependiendo de un parametro que se puede cambiar. Nota: las imagenes deben ser de igual tamaño.\n",
        "\n",
        "El objetivo es calcular el tiempo que toma esta combinacion en forma paralela usando GPU con CUDA para observar la diferencia de tiempo con el modo secuencial."
      ]
    },
    {
      "cell_type": "markdown",
      "metadata": {
        "id": "32YB71STfPcy"
      },
      "source": [
        "---\n",
        "# 2 Armado del ambiente\n",
        "Toma la dirección web de 2 imagenes con acceso público en internet, la deja disponible al contexto de ejecución del cuaderno colab."
      ]
    },
    {
      "cell_type": "code",
      "metadata": {
        "id": "QcnL4UkAN7ub",
        "colab": {
          "base_uri": "https://localhost:8080/"
        },
        "outputId": "e0140718-eb84-46ff-e5d7-ed33cc9578cb"
      },
      "source": [
        "#@title ## 2.1 Parámetros de ejecución\n",
        "#@markdown ---\n",
        "#@markdown ### Especifique la URL de la imagen:\n",
        "url_imagen = \"https://github.com/bustamanteandres/BustamanteSOA/blob/main/HPC/cara2.jpg?raw=true\" #@param {type:\"string\"}\n",
        "url_imagen2 = \"https://github.com/bustamanteandres/BustamanteSOA/blob/main/HPC/cara4.jpg?raw=true\" #@param {type:\"string\"}\n",
        "#@markdown ---\n",
        "\n",
        "!wget {url_imagen} -O imagen.jpg\n",
        "!wget {url_imagen2} -O imagen2.jpg\n",
        "\n"
      ],
      "execution_count": 2,
      "outputs": [
        {
          "output_type": "stream",
          "text": [
            "--2020-11-22 23:57:05--  https://github.com/bustamanteandres/BustamanteSOA/blob/main/HPC/cara2.jpg?raw=true\n",
            "Resolving github.com (github.com)... 140.82.113.4\n",
            "Connecting to github.com (github.com)|140.82.113.4|:443... connected.\n",
            "HTTP request sent, awaiting response... 302 Found\n",
            "Location: https://github.com/bustamanteandres/BustamanteSOA/raw/main/HPC/cara2.jpg [following]\n",
            "--2020-11-22 23:57:05--  https://github.com/bustamanteandres/BustamanteSOA/raw/main/HPC/cara2.jpg\n",
            "Reusing existing connection to github.com:443.\n",
            "HTTP request sent, awaiting response... 302 Found\n",
            "Location: https://raw.githubusercontent.com/bustamanteandres/BustamanteSOA/main/HPC/cara2.jpg [following]\n",
            "--2020-11-22 23:57:06--  https://raw.githubusercontent.com/bustamanteandres/BustamanteSOA/main/HPC/cara2.jpg\n",
            "Resolving raw.githubusercontent.com (raw.githubusercontent.com)... 151.101.0.133, 151.101.64.133, 151.101.128.133, ...\n",
            "Connecting to raw.githubusercontent.com (raw.githubusercontent.com)|151.101.0.133|:443... connected.\n",
            "HTTP request sent, awaiting response... 200 OK\n",
            "Length: 36473 (36K) [image/jpeg]\n",
            "Saving to: ‘imagen.jpg’\n",
            "\n",
            "\rimagen.jpg            0%[                    ]       0  --.-KB/s               \rimagen.jpg          100%[===================>]  35.62K  --.-KB/s    in 0s      \n",
            "\n",
            "2020-11-22 23:57:06 (97.1 MB/s) - ‘imagen.jpg’ saved [36473/36473]\n",
            "\n",
            "--2020-11-22 23:57:06--  https://github.com/bustamanteandres/BustamanteSOA/blob/main/HPC/cara4.jpg?raw=true\n",
            "Resolving github.com (github.com)... 140.82.113.3\n",
            "Connecting to github.com (github.com)|140.82.113.3|:443... connected.\n",
            "HTTP request sent, awaiting response... 302 Found\n",
            "Location: https://github.com/bustamanteandres/BustamanteSOA/raw/main/HPC/cara4.jpg [following]\n",
            "--2020-11-22 23:57:06--  https://github.com/bustamanteandres/BustamanteSOA/raw/main/HPC/cara4.jpg\n",
            "Reusing existing connection to github.com:443.\n",
            "HTTP request sent, awaiting response... 302 Found\n",
            "Location: https://raw.githubusercontent.com/bustamanteandres/BustamanteSOA/main/HPC/cara4.jpg [following]\n",
            "--2020-11-22 23:57:06--  https://raw.githubusercontent.com/bustamanteandres/BustamanteSOA/main/HPC/cara4.jpg\n",
            "Resolving raw.githubusercontent.com (raw.githubusercontent.com)... 151.101.0.133, 151.101.64.133, 151.101.128.133, ...\n",
            "Connecting to raw.githubusercontent.com (raw.githubusercontent.com)|151.101.0.133|:443... connected.\n",
            "HTTP request sent, awaiting response... 200 OK\n",
            "Length: 125906 (123K) [image/jpeg]\n",
            "Saving to: ‘imagen2.jpg’\n",
            "\n",
            "imagen2.jpg         100%[===================>] 122.96K  --.-KB/s    in 0.003s  \n",
            "\n",
            "2020-11-22 23:57:06 (41.1 MB/s) - ‘imagen2.jpg’ saved [125906/125906]\n",
            "\n"
          ],
          "name": "stdout"
        }
      ]
    },
    {
      "cell_type": "markdown",
      "metadata": {
        "id": "3GLsQ34ysP4_"
      },
      "source": [
        "---\n",
        "## 2.2 Instala en el cuaderno el módulo CUDA de Python."
      ]
    },
    {
      "cell_type": "code",
      "metadata": {
        "id": "ropgS48tsRTv",
        "colab": {
          "base_uri": "https://localhost:8080/"
        },
        "outputId": "83e661d5-2f4f-434d-e25d-b1e1a00508b2"
      },
      "source": [
        "!pip install pycuda"
      ],
      "execution_count": 4,
      "outputs": [
        {
          "output_type": "stream",
          "text": [
            "Collecting pycuda\n",
            "\u001b[?25l  Downloading https://files.pythonhosted.org/packages/46/61/47d3235a4c13eec5a5f03594ddb268f4858734e02980afbcd806e6242fa5/pycuda-2020.1.tar.gz (1.6MB)\n",
            "\u001b[K     |████████████████████████████████| 1.6MB 21.5MB/s \n",
            "\u001b[?25hCollecting pytools>=2011.2\n",
            "\u001b[?25l  Downloading https://files.pythonhosted.org/packages/b7/30/c9362a282ef89106768cba9d884f4b2e4f5dc6881d0c19b478d2a710b82b/pytools-2020.4.3.tar.gz (62kB)\n",
            "\u001b[K     |████████████████████████████████| 71kB 11.0MB/s \n",
            "\u001b[?25hRequirement already satisfied: decorator>=3.2.0 in /usr/local/lib/python3.6/dist-packages (from pycuda) (4.4.2)\n",
            "Collecting appdirs>=1.4.0\n",
            "  Downloading https://files.pythonhosted.org/packages/3b/00/2344469e2084fb287c2e0b57b72910309874c3245463acd6cf5e3db69324/appdirs-1.4.4-py2.py3-none-any.whl\n",
            "Collecting mako\n",
            "\u001b[?25l  Downloading https://files.pythonhosted.org/packages/a6/37/0e706200d22172eb8fa17d68a7ae22dec7631a0a92266634fb518a88a5b2/Mako-1.1.3-py2.py3-none-any.whl (75kB)\n",
            "\u001b[K     |████████████████████████████████| 81kB 11.4MB/s \n",
            "\u001b[?25hRequirement already satisfied: six>=1.8.0 in /usr/local/lib/python3.6/dist-packages (from pytools>=2011.2->pycuda) (1.15.0)\n",
            "Requirement already satisfied: numpy>=1.6.0 in /usr/local/lib/python3.6/dist-packages (from pytools>=2011.2->pycuda) (1.18.5)\n",
            "Requirement already satisfied: dataclasses>=0.7 in /usr/local/lib/python3.6/dist-packages (from pytools>=2011.2->pycuda) (0.7)\n",
            "Requirement already satisfied: MarkupSafe>=0.9.2 in /usr/local/lib/python3.6/dist-packages (from mako->pycuda) (1.1.1)\n",
            "Building wheels for collected packages: pycuda, pytools\n",
            "  Building wheel for pycuda (setup.py) ... \u001b[?25l\u001b[?25hdone\n",
            "  Created wheel for pycuda: filename=pycuda-2020.1-cp36-cp36m-linux_x86_64.whl size=621008 sha256=d76714a5528a562e266c883be9cd1e900d495efc41c377ee3f21f20a4f7196dc\n",
            "  Stored in directory: /root/.cache/pip/wheels/8f/78/d1/5bb826f81d9d490297a348d818ff3ee6dd6f2075b06dde6ea0\n",
            "  Building wheel for pytools (setup.py) ... \u001b[?25l\u001b[?25hdone\n",
            "  Created wheel for pytools: filename=pytools-2020.4.3-py2.py3-none-any.whl size=61374 sha256=fee50cf13ea37ebc3a13fc98effabd2f75340e041cf94f9f87864f73819d9bfb\n",
            "  Stored in directory: /root/.cache/pip/wheels/af/c7/81/a22edb90b0b09a880468b2253bb1df8e9f503337ee15432c64\n",
            "Successfully built pycuda pytools\n",
            "Installing collected packages: appdirs, pytools, mako, pycuda\n",
            "Successfully installed appdirs-1.4.4 mako-1.1.3 pycuda-2020.1 pytools-2020.4.3\n"
          ],
          "name": "stdout"
        }
      ]
    },
    {
      "cell_type": "markdown",
      "metadata": {
        "id": "Xt4Pea0Psrx_"
      },
      "source": [
        "---\n",
        "# 3 Desarrollo\n",
        "Ejecución del algoritmo escala de grises en GPU."
      ]
    },
    {
      "cell_type": "code",
      "metadata": {
        "id": "8_uVXVJjz_Jr",
        "colab": {
          "base_uri": "https://localhost:8080/"
        },
        "outputId": "11c503d3-935b-48fa-9979-446e3fbfcf64"
      },
      "source": [
        "%matplotlib inline\n",
        "\n",
        "try:\n",
        "  from datetime import datetime\n",
        "  import matplotlib.pyplot as plt\n",
        "  import numpy\n",
        "  from PIL import Image \n",
        "  import pycuda.driver as cuda\n",
        "  import pycuda.autoinit\n",
        "  from pycuda.compiler import SourceModule\n",
        "\n",
        "  # --------------------------------------------\n",
        "  # Definición de función que transforma el tiempo en  milisegundos \n",
        "  tiempo_en_ms = lambda dt:(dt.days * 24 * 60 * 60 + dt.seconds) * 1000 + dt.microseconds / 1000.0\n",
        "  \n",
        "  #@markdown ---\n",
        "  #@markdown ### Seleccione el modo de combinacion de imagen\n",
        "  combinacion_vertical = True #@param {type:\"boolean\"}\n",
        "  #@markdown ---\n",
        "\n",
        "  tiempo_inicio_total = datetime.now()\n",
        "  # Cargo las imagenes guardadas en el \"Armado del ambiente\"\n",
        "  img_nombre = 'imagen.jpg'\n",
        "  img2_nombre = 'imagen2.jpg'\n",
        "  image = Image.open(img_nombre) \n",
        "  image2 = Image.open(img2_nombre)\n",
        "\n",
        "  # Obtengo dimensiones de ambas imagenes\n",
        "  img_ancho, img_alto = image.size\n",
        "  img2_ancho, img2_alto = image2.size\n",
        "  print(\"Imagen 1: \" + img_nombre + \" -\" + image.mode + \"- [\" + str(img_ancho) + \", \" + str(img_alto ) + \"]\" )\n",
        "  print(\"Imagen 2: \" + img2_nombre + \" -\" + image2.mode + \"- [\" + str(img2_ancho) + \", \" + str(img2_alto ) + \"]\" )  \n",
        "  if image.size != image2.size:\n",
        "    raise Exception(\"Las imagenes no son del mismo tamaño\")\n",
        "  \n",
        "  # Convierto la imagen comprimida en JPEG/PNG a array\n",
        "  img1_cpu = numpy.asarray(image)\n",
        "  img2_cpu = numpy.asarray(image2)\n",
        "\n",
        "  # Genero el array resultado (3 pixeles usa RGB * (el tamaño del array))\n",
        "  if img1_cpu.size > img2_cpu.size:\n",
        "    img_result_cpu = numpy.empty_like(img1_cpu)\n",
        "  else:\n",
        "    img_result_cpu = numpy.empty_like(img2_cpu)\n",
        "\n",
        "  # Reservo los 3 vectores en GPU(3 pixeles usa RGB * (el tamaño del array))\n",
        "  img1_gpu = cuda.mem_alloc(img1_cpu.nbytes)\n",
        "  img2_gpu = cuda.mem_alloc(img2_cpu.nbytes)\n",
        "  img_result_gpu = cuda.mem_alloc(img_result_cpu.nbytes)\n",
        "\n",
        "  # GPU - Copio la memoria al GPU.\n",
        "  cuda.memcpy_htod( img1_gpu, img1_cpu )\n",
        "  cuda.memcpy_htod( img2_gpu, img2_cpu )\n",
        "  cuda.memcpy_htod( img_result_gpu, img_result_cpu)\n",
        "\n",
        "  # CPU - Defino las funciones kernel que ejecutará en GPU.\n",
        "  module = SourceModule(\"\"\"\n",
        "  __global__ void kernel_img_vertical( int ancho, int alto, char *img1, char *img2, char *img_R)\n",
        "  {\n",
        "    // Calculo las coordenadas del Thread en dos dimensiones.\n",
        "    int idx = threadIdx.x + blockIdx.x*blockDim.x;\n",
        "    int idy = threadIdx.y + blockIdx.y*blockDim.y;\n",
        "    int mitad_alto = alto / 2;\n",
        "    // Verifico que los Thread, esten dentro de las dimensiones de la imagen.\n",
        "    if( idx < ancho && idy < alto )\n",
        "    {\n",
        "      // Escribo el color del pixel.\n",
        "      if(idy < mitad_alto){\n",
        "        img_R[((idx + (idy * ancho)) * 3)] = img1[((idx + (idy * ancho)) * 3)];\n",
        "        img_R[((idx + (idy * ancho)) * 3) + 1] = img1[((idx + (idy * ancho)) * 3) + 1];\n",
        "        img_R[((idx + (idy * ancho)) * 3) + 2] = img1[((idx + (idy * ancho)) * 3) + 2];\n",
        "      }else{\n",
        "        img_R[((idx + (idy * ancho)) * 3)] = img2[((idx + (idy * ancho)) * 3)];\n",
        "        img_R[((idx + (idy * ancho)) * 3) + 1] = img2[((idx + (idy * ancho)) * 3) + 1];\n",
        "        img_R[((idx + (idy * ancho)) * 3) + 2] = img2[((idx + (idy * ancho)) * 3) + 2];\n",
        "      }\n",
        "    }\n",
        "  }\n",
        "\n",
        "  __global__ void kernel_img_horizontal( int ancho, int alto, char *img1, char *img2, char *img_R)\n",
        "  {\n",
        "    // Calculo las coordenadas del Thread en dos dimensiones.\n",
        "    int idx = threadIdx.x + blockIdx.x*blockDim.x;\n",
        "    int idy = threadIdx.y + blockIdx.y*blockDim.y;\n",
        "    int mitad_ancho = (int)(ancho / 2);\n",
        "    // Verifico que los Thread, esten dentro de las dimensiones de la imagen.\n",
        "    if( idx < ancho && idy < alto )\n",
        "    {\n",
        "      // Escribo el color del pixel.\n",
        "      if(idx < mitad_ancho){\n",
        "        img_R[((idx + (idy * ancho)) * 3)] = img1[((idx + (idy * ancho)) * 3)];\n",
        "        img_R[((idx + (idy * ancho)) * 3) + 1] = img1[((idx + (idy * ancho)) * 3) + 1];\n",
        "        img_R[((idx + (idy * ancho)) * 3) + 2] = img1[((idx + (idy * ancho)) * 3) + 2];\n",
        "      }else{\n",
        "        img_R[((idx + (idy * ancho)) * 3)] = img2[((idx + (idy * ancho)) * 3)];\n",
        "        img_R[((idx + (idy * ancho)) * 3) + 1] = img2[((idx + (idy * ancho)) * 3) + 1];\n",
        "        img_R[((idx + (idy * ancho)) * 3) + 2] = img2[((idx + (idy * ancho)) * 3) + 2];\n",
        "      }\n",
        "    }\n",
        "  }\n",
        "  \"\"\")\n",
        "\n",
        "  # CPU - Genero la función kernel.\n",
        "  if combinacion_vertical:\n",
        "    kernel = module.get_function(\"kernel_img_vertical\")\n",
        "  else:\n",
        "    kernel = module.get_function(\"kernel_img_horizontal\")\n",
        "  tiempo_ini_gpu = datetime.now()\n",
        "\n",
        "  dim_hilo_x = 16\n",
        "  dim_bloque_x = numpy.int((img_ancho + dim_hilo_x-1) / dim_hilo_x)\n",
        "  dim_hilo_y = 16\n",
        "  dim_bloque_y = numpy.int((img_alto+dim_hilo_y-1) / dim_hilo_y)\n",
        "\n",
        "  print(\"Thread: [\", dim_hilo_x, \",\", dim_hilo_y, \" ], Bloque : [\", dim_bloque_x, \",\", dim_bloque_y, \"]\" )\n",
        "  print(\"Total de Thread: [\", dim_hilo_x * dim_bloque_x, \",\", dim_hilo_y * dim_bloque_y, \" ]\", \" = \", dim_hilo_x*  dim_bloque_x * dim_hilo_y * dim_bloque_y )\n",
        "  tiempo_inicio_gpu = datetime.now()\n",
        "\n",
        "  kernel(numpy.int32(img_ancho), numpy.int32(img_alto), img1_gpu, img2_gpu, img_result_gpu, block=( dim_hilo_x, dim_hilo_y, 1 ), grid=(dim_bloque_x, dim_bloque_y,1) )\n",
        "\n",
        "  tiempo_total_gpu = datetime.now() - tiempo_inicio_gpu\n",
        "\n",
        "  # GPU - Copio el resultado desde la memoria GPU.\n",
        "  cuda.memcpy_dtoh(img_result_cpu, img_result_gpu)\n",
        "\n",
        "  # Muestro las imagenes originales..\n",
        "  plt.figure()\n",
        "  imgplot = plt.imshow(img1_cpu)\n",
        "  plt.figure()\n",
        "  imgplot = plt.imshow(img2_cpu)\n",
        "\n",
        "  # Muestro la imagen luego de aplicar la combinacion.\n",
        "  plt.figure()\n",
        "  imgplot = plt.imshow(img_result_cpu)\n",
        "\n",
        "  tiempo_total = datetime.now() - tiempo_inicio_total\n",
        "  print(\"Tiempo total:\", tiempo_en_ms(tiempo_total), \"ms\")\n",
        "  print(\"Tiempo GPU:\", tiempo_en_ms(tiempo_total_gpu), \"ms\")\n",
        "except Exception as excep:\n",
        "  print(\"Error: \", excep)"
      ],
      "execution_count": 3,
      "outputs": [
        {
          "output_type": "stream",
          "text": [
            "Error:  No module named 'pycuda'\n"
          ],
          "name": "stdout"
        }
      ]
    },
    {
      "cell_type": "markdown",
      "metadata": {
        "id": "zqAv4Gt7qRrh"
      },
      "source": [
        "---\n",
        "# 4 Tabla de pasos\n",
        "\n",
        "\n",
        " Procesador | Funciòn | Detalle\n",
        "------------|---------|----------\n",
        "CPU      |  @param                | Lectura de las direcciones URL de las imagenes (jpg) a procesar.\n",
        "CPU      |  wget url_imagen       | Lectura de las direcciones URL de la imagenes (jpg) a procesar.\n",
        "CPU      | pip install pycuda    | Instala en el cuaderno los driver de CUDA para Python.\n",
        "CPU      |  matplotlib inline    | Macro de Colab para mostrar imagenes.\n",
        "CPU      |  import                | Importa los módulos para funcionar.\n",
        "CPU      |  tiempo_en_ms          | Define una funcion para obtener el tiempo en milisegundos a partir de una fecha.\n",
        "CPU      |  @param                | Lectura del modo de combinacion de imagen.\n",
        "CPU      |  datetime.now()        | Toma el tiempo actual.\n",
        "CPU      |  Image.open()          | Abre los archivos de las imagenes.\n",
        "CPU      |  numpy.asarray(imagen) | Convierte el formato comprimido JPG a RAW.\n",
        "CPU      |  numpy.empty_like(()   | Genera el array destino, que tendrá a la imagen resultado.\n",
        "**GPU**  |  cuda.mem_alloc()      | Reserva la memoria para las imagenes en GPU.\n",
        "**GPU**  |  cuda.memcpy_htod()    | Copio los valores de las imagenes al GPU.\n",
        "CPU      |  SourceModule()        | Posee el còdigo del kernel.\n",
        "CPU      |  module.get_function() | Convierte el texto del kernel en funcion de Python.\n",
        "CPU      |  dim_hilo_x, dim_hilo_y| Calcula las dimensiones para la ejecuciòn de 2D.\n",
        "**GPU**  |  kernel()              | Ejecuta el kernel en GPU, enviando los parametros.\n",
        "CPU      |  print()               | Informa los atributos de la imagenes.\n",
        "CPU      | cuda.memcpy_dtoh()     | Copia desde la memoria GPU al CPU.\n",
        "CPU      |  plt.imshow            | Muestra la imagenes originales.\n",
        "CPU      |  plt.imshow            | Muestra la imagen resultado.\n",
        "CPU      |  print()          | Muestra el tiempo total y el tiempo que tomo la funcion GPU."
      ]
    },
    {
      "cell_type": "markdown",
      "metadata": {
        "id": "Qtiz4_7bmaDe"
      },
      "source": [
        "---\n",
        "# 5 Conclusiones\n",
        "\n",
        "Como conclusion podemos observar que al realizar la combinacion en paralelo de las 2 imagenes, usando threads del GPU, dicha combinacion se realiza mucho mas rapido que si se hiciera secuencialmente. Si bien la inicializacion toma bastante tiempo, al tratarse de una combinacion de imagenes, el procesamiento siempre sera grande, por lo que termina siendo mas eficiente."
      ]
    },
    {
      "cell_type": "markdown",
      "metadata": {
        "id": "ufDYy0LPmbYH"
      },
      "source": [
        "---\n",
        "# 6 Bibliografía\n",
        "\n",
        "[1] MARKDOWN SYNTAX Colab: [PDF](https://github.com/wvaliente/SOA_HPC/blob/main/Documentos/markdown-cheatsheet-online.pdf)\n",
        "\n",
        "[2] Introducción a Python: [Página Colab](https://github.com/wvaliente/SOA_HPC/blob/main/Documentos/Python_Basico.ipynb) \n",
        "\n",
        "[3] Tutorial Point Colab: [PDF](https://github.com/wvaliente/SOA_HPC/blob/main/Documentos/markdown-cheatsheet-online.pdf)\n"
      ]
    }
  ]
}